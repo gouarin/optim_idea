{
 "cells": [
  {
   "cell_type": "markdown",
   "metadata": {},
   "source": [
    "#Quelques idées d'optimisation d'un code numérique écrit en Python"
   ]
  },
  {
   "cell_type": "markdown",
   "metadata": {},
   "source": [
    "Dans ce tutoriel, nous allons utiliser différents outils permettant d'optimiser du code numérique écrit en Python. Parmi, les outils proposés, nous nous intéresserons à\n",
    "\n",
    "- Cython\n",
    "- Pythran\n",
    "- Numba\n",
    "\n",
    "sur deux exemples simples. Le premier sera le calcul de $\\pi$ où il y a une boucle à optimiser qui ne fait intervenir que des scalaires. Le deuxième cas est la résolution de l'équation de la chaleur en 2D par un schéma aux différences finies couplé à un schéma d'Euler explicite pour l'intégration en temps.\n",
    "\n",
    "Nous regarderons pour chaque exemple les temps de calcul afin de comparer chacune des méthodes.\n",
    "\n",
    "##Calcul de $\\pi$\n",
    "\n",
    "Il existe différentes manières de calculer une approximation du nombre $\\pi$. Nous choisirons celle qui consiste à calculer l'intégrale suivante\n",
    "\n",
    "$$\n",
    "\\pi = \\int_0^1f(x)dx \\; \\text{avec} \\; f(x)=\\frac{4}{1+x^2}.\n",
    "$$\n",
    "\n",
    "Pour ce faire, on approche l'intégrale en utilisant une méthode des rectangles\n",
    "\n",
    "$$\n",
    "\\pi \\approx \\frac{1}{n}\\sum_{i=0}^{n-1}f(x_i), \\; \\text{avec} \\; x_i=\\frac{i+0.5}{n} \\; \\text{pour} \\; i=0,\\cdots,n-1.\n",
    "$$\n",
    "\n",
    "Voici une écriture possible en Python"
   ]
  },
  {
   "cell_type": "code",
   "execution_count": null,
   "metadata": {
    "collapsed": true
   },
   "outputs": [],
   "source": [
    "def f(x):\n",
    "    return 4./(1 + x**2)\n",
    "\n",
    "def calculPi(n):\n",
    "    h, pi = 1./n, 0.\n",
    "    for i in xrange(n):\n",
    "        pi += f(h*(i+.5))\n",
    "    return h*pi"
   ]
  },
  {
   "cell_type": "markdown",
   "metadata": {},
   "source": [
    "### Utilisation de Cython\n",
    "\n",
    "Cython fonctionne de la façon suivante\n",
    "\n",
    "- On écrit un fichier .pyx indiquant comment s'opère l'interfaçage entre les objets Python et du C.\n",
    "- On utilise la commande cython pour créer l'interface .c écrite en API Python/C.\n",
    "- On compile ce fichier .c en .o.\n",
    "- On crée la librairie .so associée.\n",
    "- On peut maintenant importer cette librairie dans Python et utiliser les fonctions ou classes ainsi créées.\n",
    "\n",
    "Vous pouvez effectuer toutes ces étapes \n",
    "\n",
    "- utilisant `cython` manuellement,\n",
    "- écrivant un fichier `setup.py` utilisant `distutils`,\n",
    "- utilisant `pyximport`,\n",
    "- utilisant Sage.\n",
    "\n",
    "Etant donné que nous allons rester dans le notebook de ipython, nous utiliserons le module externe `Cython` qui permet d'écrire le fichier pyx dans une cellule de code. En voici un exemple"
   ]
  },
  {
   "cell_type": "code",
   "execution_count": null,
   "metadata": {
    "collapsed": false
   },
   "outputs": [],
   "source": [
    "%load_ext Cython"
   ]
  },
  {
   "cell_type": "code",
   "execution_count": null,
   "metadata": {
    "collapsed": false
   },
   "outputs": [],
   "source": [
    "%%cython\n",
    "\n",
    "def hello():\n",
    "    print(\"hello\")"
   ]
  },
  {
   "cell_type": "code",
   "execution_count": null,
   "metadata": {
    "collapsed": false
   },
   "outputs": [],
   "source": [
    "hello()"
   ]
  },
  {
   "cell_type": "markdown",
   "metadata": {},
   "source": [
    "Pour optimiser une partie d'un code numérique écrit en Python en utilisant Cython, vous avez 4 étapes \n",
    "\n",
    "- Faire un copier coller de la fonction à optimiser.\n",
    "- Typer en C les variables de la fonction.\n",
    "- Ajouter des directives si c'est nécessaire.\n",
    "- Améliorer le code pour qu'il soit le plus possible en C.\n",
    "\n",
    "Voici quelques directives importantes\n",
    "\n",
    "- *boundscheck* \n",
    "\n",
    "    Si `False`, Cython assume que les indices demandés existent (`True` par défaut).\n",
    "\n",
    "\n",
    "- *wraparound*\n",
    "\n",
    "    Si `False`, Cython ne vérifie pas si l'indice est négatif (`True` par défaut).\n",
    "\n",
    "\n",
    "- *cdivision* \n",
    "\n",
    "    Si `True`, Cython fait une division en C (`False` par défaut).\n",
    "    \n",
    "On peut les utiliser de différentes manières.\n",
    "\n",
    "- En ligne de commande\n",
    "\n",
    "        cython -X boundscheck=True monfichier.pyx\n",
    "  \n",
    "  \n",
    "- A toutes les fonctions du fichier `.pyx`\n",
    "\n",
    "        #cython: boundscheck=True\n",
    "        \n",
    "        \n",
    "- Uniquement à une fonction\n",
    "\n",
    "        @cython.boundscheck(True)\n",
    "        def mafonction(...):"
   ]
  },
  {
   "cell_type": "markdown",
   "metadata": {},
   "source": [
    "#### Effectuez ces étapes sur la fonction calculPi"
   ]
  },
  {
   "cell_type": "code",
   "execution_count": null,
   "metadata": {
    "collapsed": false
   },
   "outputs": [],
   "source": [
    "%%cython\n",
    "def f(x):\n",
    "    return 4./(1 + x**2)\n",
    "\n",
    "def calculPiCython(n):\n",
    "    h, pi = 1./n, 0.\n",
    "    for i in xrange(n):\n",
    "        pi += f(h*(i+.5))\n",
    "    return h*pi"
   ]
  },
  {
   "cell_type": "code",
   "execution_count": null,
   "metadata": {
    "collapsed": true
   },
   "outputs": [],
   "source": [
    "%timeit calculPi(100000)"
   ]
  },
  {
   "cell_type": "code",
   "execution_count": null,
   "metadata": {
    "collapsed": false
   },
   "outputs": [],
   "source": [
    "%timeit calculPiCython(100000)"
   ]
  },
  {
   "cell_type": "markdown",
   "metadata": {},
   "source": [
    "###Utilisation de Pythran et de Numba\n",
    "\n",
    "Contrairement à Cython, Pythran et Numba agissent directement sur le fichier Python. Nous allons indiquer par un commentaire pour Pythran et par un décorateur pour Numba, que nous voulons générer une version optimisée de la fonction ainsi décorée.\n",
    "\n",
    "La grande différence entre Pythran et Numba est que Pythran génère le code optimisé avant l'exécution du programme alors que Numba génère le code optimisé au runtime.\n",
    "\n",
    "#### Exemple Pythran"
   ]
  },
  {
   "cell_type": "markdown",
   "metadata": {},
   "source": [
    "Comme dit précédemment, il suffit de mettre un commentaire sur la fonction à optimiser pour que Pythran essaie de le faire. Ce commentaire commence toujours par la même syntaxe\n",
    "\n",
    "`#pythran export`\n",
    "\n",
    "Il est ensuite suivi du nom de la fonction et du type des paramètres en argument. Le fait de spécifier les types est primordial pour que Pythran puisse faire de l'inférence de types dans la fonction et donc comprendre tous les objets que nous manipulons.\n",
    "\n",
    "Les types définis dans Pythran sont"
   ]
  },
  {
   "cell_type": "code",
   "execution_count": null,
   "metadata": {
    "collapsed": false
   },
   "outputs": [],
   "source": [
    "argument_type = basic_type\n",
    "                          | (argument_type+)    # this is a tuple\n",
    "                          | argument_type list  # this is a list\n",
    "                          | argument_type set   # this is a set\n",
    "                          | argument_type []+   # this is a ndarray\n",
    "                          | argument_type [::]+ # this is a strided ndarray\n",
    "                          | argument_type:argument_type dict    # this is a dictionary\n",
    "\n",
    "basic_type = bool | int | long | float | str\n",
    "       | uint8 | uint16 | uint32 | uint64\n",
    "       | int8 | int16 | int32 | int64\n",
    "       | float32 | float64\n",
    "       | complex64 | complex128"
   ]
  },
  {
   "cell_type": "markdown",
   "metadata": {},
   "source": [
    "Commençons par un exemple simple"
   ]
  },
  {
   "cell_type": "code",
   "execution_count": null,
   "metadata": {
    "collapsed": false
   },
   "outputs": [],
   "source": [
    "%load_ext pythranmagic"
   ]
  },
  {
   "cell_type": "code",
   "execution_count": null,
   "metadata": {
    "collapsed": false
   },
   "outputs": [],
   "source": [
    "%%pythran\n",
    "#pythran export helloPythran()\n",
    "def helloPythran():\n",
    "    return 'hello Pythran'"
   ]
  },
  {
   "cell_type": "code",
   "execution_count": null,
   "metadata": {
    "collapsed": false
   },
   "outputs": [],
   "source": [
    "helloPythran()"
   ]
  },
  {
   "cell_type": "markdown",
   "metadata": {},
   "source": [
    "Appliquez Pythran sur la fonction qui calcul $\\pi$."
   ]
  },
  {
   "cell_type": "code",
   "execution_count": null,
   "metadata": {
    "collapsed": false
   },
   "outputs": [],
   "source": [
    "%%pythran\n",
    "#compléter"
   ]
  },
  {
   "cell_type": "code",
   "execution_count": null,
   "metadata": {
    "collapsed": false
   },
   "outputs": [],
   "source": [
    "print calculPiPythran(100000)\n",
    "%timeit calculPiPythran(100000)"
   ]
  },
  {
   "cell_type": "markdown",
   "metadata": {},
   "source": [
    "####Exemple Numba\n",
    "\n",
    "Numba s'utilise un peu de la même manière que Pythran pour choisir la fonction à optimiser: il suffit de mettre un décorateur représenté en Python par le symbole `@`.\n",
    "\n",
    "On importe donc le module Numba et on ajoute au dessus de la fonction à optimiser\n",
    "\n",
    "`@numba.jit`\n",
    "\n",
    "Vous pouvez également définir des arguments dans `jit` permettant de spécifier les arguments de la fonction mais Numba essaie de les découvrir lui-même au runtime.\n",
    "\n",
    "Le fait que la compilation se fasse au runtime, la première fois que vous appelez votre fonction, celle-ci est générée puis compilée. Si vous faites des tests de performances, il faut donc bien faire attention à ce que vous voulez. "
   ]
  },
  {
   "cell_type": "code",
   "execution_count": null,
   "metadata": {
    "collapsed": true
   },
   "outputs": [],
   "source": [
    "import numba\n",
    "@numba.autojit\n",
    "def hello():\n",
    "    return 'hello'"
   ]
  },
  {
   "cell_type": "code",
   "execution_count": null,
   "metadata": {
    "collapsed": false,
    "scrolled": true
   },
   "outputs": [],
   "source": [
    "hello()"
   ]
  },
  {
   "cell_type": "markdown",
   "metadata": {},
   "source": [
    "Appliquez Numba sur la fonction qui calcul $\\pi$."
   ]
  },
  {
   "cell_type": "code",
   "execution_count": null,
   "metadata": {
    "collapsed": true
   },
   "outputs": [],
   "source": [
    "@numba.jit\n",
    "#compléter"
   ]
  },
  {
   "cell_type": "code",
   "execution_count": null,
   "metadata": {
    "collapsed": false
   },
   "outputs": [],
   "source": [
    "calculPiNumba(1)\n",
    "%timeit calculPiNumba(100000)"
   ]
  },
  {
   "cell_type": "markdown",
   "metadata": {},
   "source": [
    "##Equation de la chaleur\n",
    "\n",
    "Nous souhaitons maintenant résoudre l'équation de la chaleur 2D en utilisant un schéma d'**Euler explicite** en temps et un schéma aux différences dinies en espace.\n",
    "\n",
    "$$\n",
    "\\left\\{\n",
    "\\begin{array}{l}\n",
    "\\frac{\\partial u}{\\partial t}-\\Delta u = 0 \\; \\text{sur} \\; \\Omega, \\\\\\\\\n",
    "u = 0 \\; \\text{sur} \\; \\partial \\Omega.\n",
    "\\end{array}\n",
    "\\right.\n",
    "$$\n",
    "\n",
    "en prenant la solution initiale suivante\n",
    "\n",
    "$$\n",
    "u_0(x, y) = 100e^{-100((x-0.5)^2 + (y -0.5)^2))}.\n",
    "$$\n",
    "\n",
    "On prendra comme domaine $\\Omega=[0, 1]\\times[0,1]$, comme pas d'espace $h_x=0.01$, $h_y=0.01$ et enfin comme pas de temps $dt=h_x^2/4$."
   ]
  },
  {
   "cell_type": "markdown",
   "metadata": {},
   "source": [
    "####Mise en place des conditions de bords"
   ]
  },
  {
   "cell_type": "code",
   "execution_count": null,
   "metadata": {
    "collapsed": true
   },
   "outputs": [],
   "source": [
    "%matplotlib inline\n",
    "import numpy as np\n",
    "import matplotlib.pyplot as plt \n",
    "def setDirichlet(y):\n",
    "    y[0, :] = 0\n",
    "    y[-1, :] = 0\n",
    "    y[:, 0] = 0\n",
    "    y[:, -1] = 0"
   ]
  },
  {
   "cell_type": "markdown",
   "metadata": {},
   "source": [
    "#### Calcul du terme $\\Delta u$\n",
    "\n",
    "On calcule de Laplacien par la formule\n",
    "\n",
    "$$\n",
    "\\Delta u(x_i, y_j) \\approx \\frac{u_{i-1,j}-2u_{i,j}+u_{i+1,j}}{h_x^2}+\\frac{u_{i,j-1}-2u_{i,j}+u_{i,j+1}}{h_y^2}.\n",
    "$$"
   ]
  },
  {
   "cell_type": "code",
   "execution_count": null,
   "metadata": {
    "collapsed": true
   },
   "outputs": [],
   "source": [
    "def laplacian2D(x, h):\n",
    "    \"\"\"\n",
    "    Produit matrice-vecteur du Laplacien sans assemblage de la matrice\n",
    "\n",
    "    \"\"\"\n",
    "    cx = -1./h[0]**2\n",
    "    cy = -1./h[1]**2\n",
    "    c2 = 2./h[0]**2 + 2./h[1]**2 \n",
    "    y = np.empty(x.shape)\n",
    "    y[1:-1, 1:-1] = (c2*x[1:-1, 1:-1] \n",
    "                     + cy*(x[2:, 1:-1] + x[:-2, 1:-1])\n",
    "                     + cx*(x[1:-1, 2:] + x[1:-1, :-2]))\n",
    "    \n",
    "    return y"
   ]
  },
  {
   "cell_type": "markdown",
   "metadata": {},
   "source": [
    "#### Méthode d'Euler explicite dans le cas général\n",
    "\n",
    "Etant donné un pas de temps $\\Delta t$ et une suite d'instants $(t_n = t_0 + n\\Delta t)_{n\\in \\mathbb{N}}$, la méthode d'Euler explicite associée à l'équation différentielle\n",
    "\n",
    "$$\n",
    "u'(t) = f(t, u(t))\n",
    "$$\n",
    "\n",
    "s'écrit\n",
    "\n",
    "$$\n",
    "u_{n+1} = u_n + \\Delta t f(t_n, u_n)\n",
    "$$"
   ]
  },
  {
   "cell_type": "code",
   "execution_count": null,
   "metadata": {
    "collapsed": true
   },
   "outputs": [],
   "source": [
    "def euler(u, dt, f, fargs=()):\n",
    "    \"\"\"\n",
    "    Euler explicite pour un système \n",
    "\n",
    "    u'(t) = f(t, u(t))\n",
    "    \n",
    "    Parameters :\n",
    "    ------------\n",
    "\n",
    "    u: solution à l'instant n\n",
    "    dt:  pas de temps du schéma\n",
    "    f: fonction second membre\n",
    "    fargs: paramètres optionnels de la fonction autre que u\n",
    "\n",
    "    \"\"\"\n",
    "    return u + dt*f(u, *fargs)"
   ]
  },
  {
   "cell_type": "markdown",
   "metadata": {},
   "source": [
    "#### Initialisation de la solution\n",
    "\n",
    "On rappelle que la solution initiale est de la forme\n",
    "\n",
    "$$\n",
    "u_0(x, y) = 100e^{-100((x-0.5)^2 + (y -0.5)^2))}.\n",
    "$$"
   ]
  },
  {
   "cell_type": "code",
   "execution_count": null,
   "metadata": {
    "collapsed": true
   },
   "outputs": [],
   "source": [
    "def initSol(nx, ny, Lx=[0., 1.], Ly=[0., 1.]):\n",
    "    \"\"\"\n",
    "    Initialisation d'une fonction pour tester le schéma en temps\n",
    "\n",
    "    \"\"\"\n",
    "    x = np.linspace(Lx[0], Lx[1], nx)\n",
    "    y = np.linspace(Ly[0], Ly[1], ny)\n",
    "    \n",
    "    x = x[np.newaxis, :]\n",
    "    y = y[:, np.newaxis]\n",
    "\n",
    "    return 100.*np.exp(-100.*((x - .5)**2 + (y - .5)**2))"
   ]
  },
  {
   "cell_type": "markdown",
   "metadata": {},
   "source": [
    "#### Calcul de la solution de l'équation de la chaleur\n",
    "\n",
    "On choisit les paramètres suivants pour l'ensemble de nos simulations."
   ]
  },
  {
   "cell_type": "code",
   "execution_count": null,
   "metadata": {
    "collapsed": true
   },
   "outputs": [],
   "source": [
    "nx, ny = 101, 101\n",
    "h = [1./(nx + 1), 1./(ny + 1)]\n",
    "\n",
    "dt = np.min(h)**2/4.\n",
    "nite = 100\n",
    "\n",
    "u = initSol(nx, ny)"
   ]
  },
  {
   "cell_type": "markdown",
   "metadata": {},
   "source": [
    "On définit ici la fonction qui va permettre d'animer notre solution via matplotlib."
   ]
  },
  {
   "cell_type": "code",
   "execution_count": null,
   "metadata": {
    "collapsed": true
   },
   "outputs": [],
   "source": [
    "def init():\n",
    "    image.set_data(u)    \n",
    "    time_text.set_text('')\n",
    "    return image, time_text\n",
    "\n",
    "def animate(i):\n",
    "    u[:, :] = euler(u, -dt, laplacian2D, fargs=(h,))\n",
    "    setDirichlet(u)\n",
    "    image.set_data(u)\n",
    "\n",
    "    time_text.set_text(time_template%(i*dt))\n",
    "    return image, time_text"
   ]
  },
  {
   "cell_type": "code",
   "execution_count": null,
   "metadata": {
    "collapsed": false
   },
   "outputs": [],
   "source": [
    "from JSAnimation.IPython_display import display_animation\n",
    "import matplotlib.animation as animation\n",
    "\n",
    "# Creation de la figure\n",
    "fig = plt.figure(figsize=(8, 8))\n",
    "ax = fig.add_subplot(111, autoscale_on=True)\n",
    "\n",
    "# Creation des différents elements constituants la figure\n",
    "image = ax.imshow(u)\n",
    "time_template = 'time = %es'\n",
    "time_text = ax.text(0.05, 0.05, 'test', transform=ax.transAxes, color=\"white\", fontsize=18)\n",
    "\n",
    "anim = animation.FuncAnimation(fig, animate, xrange(nite),\n",
    "    interval=25, blit=True, init_func=init)"
   ]
  },
  {
   "cell_type": "code",
   "execution_count": null,
   "metadata": {
    "collapsed": false
   },
   "outputs": [],
   "source": [
    "from JSAnimation.IPython_display import display_animation\n",
    "display_animation(anim, default_mode='once')"
   ]
  },
  {
   "cell_type": "markdown",
   "metadata": {},
   "source": [
    "Nous allons maintenant essayer d'optimiser la fonction `laplacian2D` en utilisant Cython, Pythran et Numba.\n",
    "\n",
    "####Version Cython\n",
    "\n",
    "Nous manipulons ici des tableaux Numpy. Dans Cython, nous pouvons accéder à ces tableaux en utilisant une *memory view*. La syntaxe est simple: il suffit de donner le type et les dimensions du tableau avec éventuellement son stockage C ou Fortran."
   ]
  },
  {
   "cell_type": "code",
   "execution_count": null,
   "metadata": {
    "collapsed": true
   },
   "outputs": [],
   "source": [
    "cdef int [:, :, ::1] mvc\n",
    "\n",
    "#memory view d'un tableau numpy stocké en C\n",
    "mvc = np.zeros((10, 10, 10), dtype=np.int32)\n",
    "\n",
    "cdef int [::1, :, :] mvF\n",
    "\n",
    "#memory view d'un tableau numpy stocké en Fortran\n",
    "mvF = np.zeros((10, 10, 10), dtype=np.int32, order='F')"
   ]
  },
  {
   "cell_type": "markdown",
   "metadata": {},
   "source": [
    "Ecrivez la version Cython de `laplacian2D`. On rappelle les 4 grandes étapes\n",
    "\n",
    "- Faire un copier coller de la fonction à optimiser.\n",
    "- Typer en C les variables de la fonction.\n",
    "- Ajouter des directives si c'est nécessaire.\n",
    "- Améliorer le code pour qu'il soit le plus possible en C."
   ]
  },
  {
   "cell_type": "code",
   "execution_count": null,
   "metadata": {
    "collapsed": false
   },
   "outputs": [],
   "source": [
    "%%cython -a \n",
    "import numpy as pnp\n",
    "import cython\n",
    "    \n",
    "#compléter"
   ]
  },
  {
   "cell_type": "code",
   "execution_count": null,
   "metadata": {
    "collapsed": false
   },
   "outputs": [],
   "source": [
    "%timeit laplacian2D(np.zeros((1000,1000)), np.array([1.,1.]))"
   ]
  },
  {
   "cell_type": "code",
   "execution_count": null,
   "metadata": {
    "collapsed": false
   },
   "outputs": [],
   "source": [
    "%timeit laplacian2DCython(np.zeros((1000,1000)), np.array([1., 1.]))"
   ]
  },
  {
   "cell_type": "markdown",
   "metadata": {},
   "source": [
    "Ecrivez la version Numba de `laplacian2D`."
   ]
  },
  {
   "cell_type": "code",
   "execution_count": null,
   "metadata": {
    "collapsed": false
   },
   "outputs": [],
   "source": [
    "@numba.jit\n",
    "#compléter"
   ]
  },
  {
   "cell_type": "code",
   "execution_count": null,
   "metadata": {
    "collapsed": false
   },
   "outputs": [],
   "source": [
    "laplacian2DNumba(np.zeros((10,10)), np.array([1., 1.]))\n",
    "%timeit laplacian2DNumba(np.zeros((1000,1000)), np.array([1., 1.]))"
   ]
  },
  {
   "cell_type": "markdown",
   "metadata": {},
   "source": [
    "Ecrivez la version Pythran de `laplacian2D`."
   ]
  },
  {
   "cell_type": "code",
   "execution_count": null,
   "metadata": {
    "collapsed": false
   },
   "outputs": [],
   "source": [
    "%%pythran\n",
    "#compléter"
   ]
  },
  {
   "cell_type": "code",
   "execution_count": null,
   "metadata": {
    "collapsed": false
   },
   "outputs": [],
   "source": [
    "import numpy as np\n",
    "%timeit laplacian2DPythran(np.zeros((1000,1000)), np.array([1., 1.]))"
   ]
  },
  {
   "cell_type": "code",
   "execution_count": 1,
   "metadata": {
    "collapsed": false
   },
   "outputs": [
    {
     "data": {
      "text/html": [
       "<link href='http://fonts.googleapis.com/css?family=Oswald' rel='stylesheet' type='text/css'>\n",
       "<link href='http://fonts.googleapis.com/css?family=Lora:400,400italic' rel='stylesheet' type='text/css'>\n",
       "<link href='http://fonts.googleapis.com/css?family=Open+Sans:300' rel='stylesheet' type='text/css'>\n",
       "\n",
       "<style>\n",
       "\n",
       "div.text_cell_render{font-family: Lora, sans-serif;font-weight: normal; line-height:normal;font-size: 18px;}\n",
       "/* header colours and fonts */\n",
       ".rendered_html h1 { color:  #9A3334; font-family: Lora, sans-serif; font-weight: normal; text-align: center; }\n",
       ".rendered_html h2 { color: #9A3334; font-family: Lora, sans-serif; font-style: italic; font-weight: normal; text-align: center; }\n",
       ".rendered_html h3 { color: #9A3334; font-family: Lora, sans-serif; font-weight: normal; font-style: italic;}\n",
       "\n",
       "div.prompt {\n",
       "    display: None;\n",
       "}\n",
       "\n",
       "/* center the images */\n",
       ".ui-wrapper {\n",
       "    margin-left: auto !important;\n",
       "    margin-right: auto !important;\n",
       "}\n",
       "\n",
       "/* center the images */\n",
       ".video {\n",
       "    margin-left: auto !important;\n",
       "    margin-right: auto !important;\n",
       "}\n",
       "\n",
       ".rendered_html img {\n",
       "    margin-top: 0em;\n",
       "}\n",
       "\n",
       "/*.reveal h1 {\n",
       "    text-shadow: 10px 10px 10px rgba(0, 0, 0, 0.5);\n",
       "}*/\n",
       "</style>"
      ],
      "text/plain": [
       "<IPython.core.display.HTML object>"
      ]
     },
     "execution_count": 1,
     "metadata": {},
     "output_type": "execute_result"
    }
   ],
   "source": [
    "from IPython.core.display import HTML\n",
    "def css_styling():\n",
    "    styles = open(\"styles/custom.css\", \"r\").read()\n",
    "    return HTML(styles)\n",
    "css_styling()"
   ]
  }
 ],
 "metadata": {
  "kernelspec": {
   "display_name": "Python 2",
   "language": "python",
   "name": "python2"
  },
  "language_info": {
   "codemirror_mode": {
    "name": "ipython",
    "version": 2
   },
   "file_extension": ".py",
   "mimetype": "text/x-python",
   "name": "python",
   "nbconvert_exporter": "python",
   "pygments_lexer": "ipython2",
   "version": "2.7.10"
  }
 },
 "nbformat": 4,
 "nbformat_minor": 0
}
